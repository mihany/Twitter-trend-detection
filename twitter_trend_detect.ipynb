{
  "nbformat": 4,
  "nbformat_minor": 0,
  "metadata": {
    "colab": {
      "name": "twitter-trend-detect.ipynb",
      "provenance": [],
      "authorship_tag": "ABX9TyN8IPNAyO5B0mLtHz5sbWGo",
      "include_colab_link": true
    },
    "kernelspec": {
      "name": "python3",
      "display_name": "Python 3"
    },
    "language_info": {
      "name": "python"
    }
  },
  "cells": [
    {
      "cell_type": "markdown",
      "metadata": {
        "id": "view-in-github",
        "colab_type": "text"
      },
      "source": [
        "<a href=\"https://colab.research.google.com/github/mihany/Twitter-trend-detection/blob/main/twitter_trend_detect.ipynb\" target=\"_parent\"><img src=\"https://colab.research.google.com/assets/colab-badge.svg\" alt=\"Open In Colab\"/></a>"
      ]
    },
    {
      "cell_type": "code",
      "execution_count": null,
      "metadata": {
        "id": "VBaI15A5Hwal"
      },
      "outputs": [],
      "source": [
        "# Variables that contains the user credentials to access Twitter API \n",
        "ACCESS_TOKEN = \"\"\n",
        "ACCESS_TOKEN_SECRET = \"\"\n",
        "CONSUMER_KEY = \"\"\n",
        "CONSUMER_SECRET = \"\""
      ]
    },
    {
      "cell_type": "code",
      "source": [
        "from tweepy.streaming import StreamListener\n",
        "from tweepy import OAuthHandler\n",
        "from tweepy import Stream\n",
        "\n",
        " \n",
        "# # # # TWITTER STREAMER # # # #\n",
        "class TwitterStreamer():\n",
        "    \"\"\"\n",
        "    Class for streaming and processing live tweets.\n",
        "    \"\"\"\n",
        "    def __init__(self):\n",
        "        pass\n",
        "\n",
        "    def stream_tweets(self, fetched_tweets_filename, hash_tag_list):\n",
        "        # This handles Twitter authetification and the connection to Twitter Streaming API\n",
        "        listener = StdOutListener(fetched_tweets_filename)\n",
        "        auth = OAuthHandler(CONSUMER_KEY, CONSUMER_SECRET)\n",
        "        auth.set_access_token(ACCESS_TOKEN, ACCESS_TOKEN_SECRET)\n",
        "        stream = Stream(auth, listener)\n",
        "\n",
        "        # This line filter Twitter Streams to capture data by the keywords: \n",
        "        stream.filter(track=hash_tag_list)\n",
        "\n",
        "\n",
        "# # # # TWITTER STREAM LISTENER # # # #\n",
        "class StdOutListener(StreamListener):\n",
        "    \"\"\"\n",
        "    This is a basic listener that just prints received tweets to stdout.\n",
        "    \"\"\"\n",
        "    def __init__(self, fetched_tweets_filename):\n",
        "        self.fetched_tweets_filename = fetched_tweets_filename\n",
        "\n",
        "    def on_data(self, data):\n",
        "        try:\n",
        "            print(data)\n",
        "            with open(self.fetched_tweets_filename, 'a') as tf:\n",
        "                tf.write(data)\n",
        "            return True\n",
        "        except BaseException as e:\n",
        "            print(\"Error on_data %s\" % str(e))\n",
        "        return True\n",
        "          \n",
        "\n",
        "    def on_error(self, status):\n",
        "        print(status)\n",
        "\n",
        " \n",
        "if __name__ == '__main__':\n",
        " \n",
        "    # Authenticate using config.py and connect to Twitter Streaming API.\n",
        "    hash_tag_list = [\"donal trump\", \"hillary clinton\", \"barack obama\", \"bernie sanders\"]\n",
        "    fetched_tweets_filename = \"tweets.txt\"\n",
        "\n",
        "    twitter_streamer = TwitterStreamer()\n",
        "    twitter_streamer.stream_tweets(fetched_tweets_filename, hash_tag_list)"
      ],
      "metadata": {
        "id": "UBBJJu9JItmU"
      },
      "execution_count": null,
      "outputs": []
    }
  ]
}